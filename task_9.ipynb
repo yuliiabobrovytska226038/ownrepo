{
 "cells": [
  {
   "cell_type": "code",
   "execution_count": 1,
   "metadata": {},
   "outputs": [],
   "source": [
    "from sim_class import Simulation\n",
    "\n",
    "# Initialize the simulation with a specified number of agents\n",
    "sim = Simulation(num_agents=1)  # For one robot"
   ]
  },
  {
   "cell_type": "code",
   "execution_count": 2,
   "metadata": {},
   "outputs": [
    {
     "data": {
      "text/plain": [
       "{'robotId_1': {'joint_states': {'joint_0': {'position': 0.26000294138903735,\n",
       "    'velocity': -0.0001866788908844816,\n",
       "    'reaction_forces': (0.0, 0.0, 0.0, 0.0, 0.0, 0.0),\n",
       "    'motor_torque': 500.00000000000006},\n",
       "   'joint_1': {'position': 0.2600000727224186,\n",
       "    'velocity': -1.410793664213642e-05,\n",
       "    'reaction_forces': (0.0, 0.0, 0.0, 0.0, 0.0, 0.0),\n",
       "    'motor_torque': 500.00000000000006},\n",
       "   'joint_2': {'position': -0.00013352105048763412,\n",
       "    'velocity': 9.77524243176235e-21,\n",
       "    'reaction_forces': (0.0, 0.0, 0.0, 0.0, 0.0, 0.0),\n",
       "    'motor_torque': -800.0}},\n",
       "  'robot_position': [-0.26000365621872723,\n",
       "   -0.2600003277930546,\n",
       "   0.0298661659836496],\n",
       "  'pipette_position': [-0.187, -0.1705, 0.1194]}}"
      ]
     },
     "execution_count": 2,
     "metadata": {},
     "output_type": "execute_result"
    }
   ],
   "source": [
    "# Move joints with specific velocities\n",
    "velocity_x = -0.1\n",
    "velocity_y = -0.1     \n",
    "velocity_z = -0.1\n",
    "drop_command = 0\n",
    "actions = [[velocity_x, velocity_y, velocity_z, drop_command]]\n",
    "\n",
    "# Run the simulation for a specified number of steps\n",
    "sim.run(actions, num_steps=1000)"
   ]
  },
  {
   "cell_type": "code",
   "execution_count": 3,
   "metadata": {},
   "outputs": [
    {
     "name": "stdout",
     "output_type": "stream",
     "text": [
      "{'robotId_1': {'joint_states': {'joint_0': {'position': 0.26000231500344634, 'velocity': -0.0001503325418355851, 'reaction_forces': (0.0, 0.0, 0.0, 0.0, 0.0, 0.0), 'motor_torque': 500.00000000000006}, 'joint_1': {'position': 0.26000002222976437, 'velocity': -1.2118237018713267e-05, 'reaction_forces': (0.0, 0.0, 0.0, 0.0, 0.0, 0.0), 'motor_torque': 500.00000000000006}, 'joint_2': {'position': -0.00013352105048763412, 'velocity': -1.2386373744605229e-20, 'reaction_forces': (0.0, 0.0, 0.0, 0.0, 0.0, 0.0), 'motor_torque': -800.0}}, 'robot_position': [-0.2600030563899864, -0.26000028707337347, 0.029866148486407763], 'pipette_position': [-0.187, -0.1705, 0.1194]}}\n"
     ]
    }
   ],
   "source": [
    "state = sim.run(actions)\n",
    "print(state)"
   ]
  },
  {
   "cell_type": "code",
   "execution_count": 4,
   "metadata": {},
   "outputs": [
    {
     "data": {
      "text/plain": [
       "{'robotId_1': {'joint_states': {'joint_0': {'position': -0.1566504747357245,\n",
       "    'velocity': -0.09982344541971379,\n",
       "    'reaction_forces': (0.0, 0.0, 0.0, 0.0, 0.0, 0.0),\n",
       "    'motor_torque': -0.08105715638107529},\n",
       "   'joint_1': {'position': -0.13000216083590732,\n",
       "    'velocity': -1.4167650452978459e-06,\n",
       "    'reaction_forces': (0.0, 0.0, 0.0, 0.0, 0.0, 0.0),\n",
       "    'motor_torque': -500.00000000000006},\n",
       "   'joint_2': {'position': 0.17000079509798732,\n",
       "    'velocity': 1.437263427870943e-06,\n",
       "    'reaction_forces': (0.0, 0.0, 0.0, 0.0, 0.0, 0.0),\n",
       "    'motor_torque': 800.0}},\n",
       "  'robot_position': [0.15665047425053277,\n",
       "   0.13000216111066745,\n",
       "   0.2000007962613644],\n",
       "  'pipette_position': [0.2297, 0.2195, 0.2895]}}"
      ]
     },
     "execution_count": 4,
     "metadata": {},
     "output_type": "execute_result"
    }
   ],
   "source": [
    "# Move joints with specific velocities\n",
    "velocity_x = 0.1\n",
    "velocity_y = 0.1     \n",
    "velocity_z = 0.1\n",
    "drop_command = 0\n",
    "actions = [[velocity_x, velocity_y, velocity_z, drop_command]]\n",
    "\n",
    "# Run the simulation for a specified number of steps\n",
    "sim.run(actions, num_steps=1000)"
   ]
  },
  {
   "cell_type": "code",
   "execution_count": 5,
   "metadata": {},
   "outputs": [
    {
     "name": "stdout",
     "output_type": "stream",
     "text": [
      "{'robotId_1': {'joint_states': {'joint_0': {'position': -0.1570664040242147, 'velocity': -0.09982302923765307, 'reaction_forces': (0.0, 0.0, 0.0, 0.0, 0.0, 0.0), 'motor_torque': -0.0812241873169977}, 'joint_1': {'position': -0.130002166575857, 'velocity': -1.3775879234757527e-06, 'reaction_forces': (0.0, 0.0, 0.0, 0.0, 0.0, 0.0), 'motor_torque': -500.00000000000006}, 'joint_2': {'position': 0.1700008009695547, 'velocity': 1.4091761670125162e-06, 'reaction_forces': (0.0, 0.0, 0.0, 0.0, 0.0, 0.0), 'motor_torque': 800.0}}, 'robot_position': [0.15706640363606134, 0.13000216679566576, 0.2000008021343968], 'pipette_position': [0.2301, 0.2195, 0.2895]}}\n"
     ]
    }
   ],
   "source": [
    "state = sim.run(actions)\n",
    "print(state)"
   ]
  }
 ],
 "metadata": {
  "kernelspec": {
   "display_name": "google",
   "language": "python",
   "name": "python3"
  },
  "language_info": {
   "codemirror_mode": {
    "name": "ipython",
    "version": 3
   },
   "file_extension": ".py",
   "mimetype": "text/x-python",
   "name": "python",
   "nbconvert_exporter": "python",
   "pygments_lexer": "ipython3",
   "version": "3.9.16"
  }
 },
 "nbformat": 4,
 "nbformat_minor": 2
}
