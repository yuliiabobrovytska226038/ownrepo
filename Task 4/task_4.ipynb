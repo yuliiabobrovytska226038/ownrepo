{
 "cells": [
  {
   "cell_type": "code",
   "execution_count": 1,
   "id": "d9266685-31c3-4517-bca8-28cff4179b27",
   "metadata": {},
   "outputs": [
    {
     "name": "stderr",
     "output_type": "stream",
     "text": [
      "2024-02-29 01:58:01.740218: I tensorflow/core/util/port.cc:113] oneDNN custom operations are on. You may see slightly different numerical results due to floating-point round-off errors from different computation orders. To turn them off, set the environment variable `TF_ENABLE_ONEDNN_OPTS=0`.\n",
      "2024-02-29 01:58:01.787178: I external/local_tsl/tsl/cuda/cudart_stub.cc:31] Could not find cuda drivers on your machine, GPU will not be used.\n",
      "2024-02-29 01:58:02.004465: E external/local_xla/xla/stream_executor/cuda/cuda_dnn.cc:9261] Unable to register cuDNN factory: Attempting to register factory for plugin cuDNN when one has already been registered\n",
      "2024-02-29 01:58:02.004518: E external/local_xla/xla/stream_executor/cuda/cuda_fft.cc:607] Unable to register cuFFT factory: Attempting to register factory for plugin cuFFT when one has already been registered\n",
      "2024-02-29 01:58:02.044268: E external/local_xla/xla/stream_executor/cuda/cuda_blas.cc:1515] Unable to register cuBLAS factory: Attempting to register factory for plugin cuBLAS when one has already been registered\n",
      "2024-02-29 01:58:02.125652: I external/local_tsl/tsl/cuda/cudart_stub.cc:31] Could not find cuda drivers on your machine, GPU will not be used.\n",
      "2024-02-29 01:58:02.126869: I tensorflow/core/platform/cpu_feature_guard.cc:182] This TensorFlow binary is optimized to use available CPU instructions in performance-critical operations.\n",
      "To enable the following instructions: AVX2 AVX512F AVX512_VNNI FMA, in other operations, rebuild TensorFlow with the appropriate compiler flags.\n",
      "2024-02-29 01:58:03.394107: W tensorflow/compiler/tf2tensorrt/utils/py_utils.cc:38] TF-TRT Warning: Could not find TensorRT\n"
     ]
    }
   ],
   "source": [
    "import os\n",
    "import numpy as np\n",
    "import matplotlib.pyplot as plt\n",
    "import tensorflow as tf\n",
    "from tensorflow.keras import layers, models\n",
    "from tensorflow.keras.preprocessing.image import load_img, img_to_array\n",
    "from sklearn.model_selection import train_test_split"
   ]
  },
  {
   "cell_type": "code",
   "execution_count": 2,
   "id": "7f7c6d16-c6c4-4b6f-90ea-3f5d23369b81",
   "metadata": {},
   "outputs": [],
   "source": [
    "# Define paths to images and masks folders\n",
    "images_dir = \"../Dataset/train/\"\n",
    "masks_dir = \"../Masks/\""
   ]
  },
  {
   "cell_type": "code",
   "execution_count": null,
   "id": "d7cbe317-f5c4-46a1-873a-2c8cf6c406ef",
   "metadata": {},
   "outputs": [],
   "source": [
    "images, masks = load_data(images_dir, masks_dir)\n",
    "\n",
    "# Print shapes of images and masks to check if they are loaded correctly\n",
    "print(\"Number of images:\", len(images))\n",
    "print(\"Number of masks:\", len(masks))"
   ]
  },
  {
   "cell_type": "code",
   "execution_count": 4,
   "id": "e0f5fa23-20cf-44d9-9f96-57939aa80732",
   "metadata": {},
   "outputs": [],
   "source": [
    "def load_data(images_dir, masks_dir):\n",
    "    images = []\n",
    "    masks = []\n",
    "    class_labels = {\"root\": 0, \"seed\": 1, \"shoot\": 2, \"occluded_root\": 3}\n",
    "    \n",
    "    mask_files = os.listdir(masks_dir)\n",
    "    \n",
    "    for img_file in os.listdir(images_dir):\n",
    "        if img_file.endswith(\".png\"):\n",
    "            img_path = os.path.join(images_dir, img_file)\n",
    "            corresponding_mask_file = None\n",
    "            \n",
    "            for mask_file in mask_files:\n",
    "                if mask_file.startswith(img_file[:-4]):\n",
    "                    corresponding_mask_file = mask_file\n",
    "                    break\n",
    "            \n",
    "            if corresponding_mask_file:\n",
    "                mask_path = os.path.join(masks_dir, corresponding_mask_file)\n",
    "                class_name = corresponding_mask_file.split(\"_\")[-2]  # Extract class name from filename\n",
    "                class_label = class_labels.get(class_name, -1)  # Get class label\n",
    "                \n",
    "                if class_label != -1:\n",
    "                    mask = np.array(load_img(mask_path, color_mode=\"grayscale\"))\n",
    "                    mask = (mask > 0).astype(np.uint8)  # Convert mask to binary\n",
    "                    masks.append(mask)\n",
    "                    \n",
    "                    img = img_to_array(load_img(img_path)) / 255.0  # Normalize image\n",
    "                    images.append(img)\n",
    "    \n",
    "    if not images or not masks:\n",
    "        raise ValueError(\"No images or masks found in the specified directories.\")\n",
    "    \n",
    "    return np.array(images), np.array(masks)"
   ]
  },
  {
   "cell_type": "code",
   "execution_count": null,
   "id": "f5f234ef-0d77-45b7-a916-84817a23fd5d",
   "metadata": {},
   "outputs": [],
   "source": [
    "# Load images and masks\n",
    "images, masks = load_data(images_dir, masks_dir)\n",
    "\n",
    "# Split dataset into train and test sets\n",
    "X_train, X_test, y_train, y_test = train_test_split(images, masks, test_size=0.2, random_state=42)"
   ]
  },
  {
   "cell_type": "code",
   "execution_count": null,
   "id": "f733088a-961b-4b63-99bd-64eb0207139f",
   "metadata": {},
   "outputs": [],
   "source": [
    "# Define model architecture (U-Net)\n",
    "def unet_model(input_shape=(None, None, 3)):\n",
    "    inputs = tf.keras.Input(shape=input_shape)\n",
    "    \n",
    "    # Encoder\n",
    "    conv1 = layers.Conv2D(64, 3, activation='relu', padding='same')(inputs)\n",
    "    conv1 = layers.Conv2D(64, 3, activation='relu', padding='same')(conv1)\n",
    "    pool1 = layers.MaxPooling2D(pool_size=(2, 2))(conv1)\n",
    "    \n",
    "    conv2 = layers.Conv2D(128, 3, activation='relu', padding='same')(pool1)\n",
    "    conv2 = layers.Conv2D(128, 3, activation='relu', padding='same')(conv2)\n",
    "    pool2 = layers.MaxPooling2D(pool_size=(2, 2))(conv2)\n",
    "    \n",
    "    # Decoder\n",
    "    up1 = layers.Conv2DTranspose(64, 2, strides=(2, 2), padding='same')(conv2)\n",
    "    concat1 = layers.concatenate([conv1, up1], axis=3)\n",
    "    conv3 = layers.Conv2D(64, 3, activation='relu', padding='same')(concat1)\n",
    "    conv3 = layers.Conv2D(64, 3, activation='relu', padding='same')(conv3)\n",
    "    \n",
    "    outputs = layers.Conv2D(1, 1, activation='sigmoid')(conv3)\n",
    "    \n",
    "    return tf.keras.Model(inputs=inputs, outputs=outputs)\n",
    "\n",
    "# Create U-Net model\n",
    "model = unet_model()\n",
    "\n",
    "# Compile the model\n",
    "model.compile(optimizer='adam', loss='binary_crossentropy', metrics=['accuracy'])\n",
    "\n",
    "# Train the model\n",
    "history = model.fit(X_train, y_train, epochs=20, batch_size=16, validation_split=0.2)\n",
    "\n",
    "# Plot learning curves\n",
    "plt.plot(history.history['loss'], label='train_loss')\n",
    "plt.plot(history.history['val_loss'], label='val_loss')\n",
    "plt.xlabel('Epochs')\n",
    "plt.ylabel('Loss')\n",
    "plt.legend()\n",
    "plt.show()\n",
    "\n",
    "# Evaluate the model on test set\n",
    "loss, accuracy = model.evaluate(X_test, y_test)\n",
    "print(f'Test Loss: {loss:.4f}')\n",
    "print(f'Test Accuracy: {accuracy:.4f}')\n",
    "\n",
    "# Example predictions\n",
    "n_examples = 5\n",
    "idx = np.random.randint(0, len(X_test), n_examples)\n",
    "preds = model.predict(X_test[idx])\n",
    "\n",
    "# Plot example predictions\n",
    "plt.figure(figsize=(15, 10))\n",
    "for i in range(n_examples):\n",
    "    plt.subplot(2, n_examples, i + 1)\n",
    "    plt.imshow(X_test[idx[i]])\n",
    "    plt.title('Input Image')\n",
    "    plt.axis('off')\n",
    "    \n",
    "    plt.subplot(2, n_examples, i + n_examples + 1)\n",
    "    plt.imshow(preds[i].squeeze(), cmap='gray')\n",
    "    plt.title('Predicted Mask')\n",
    "    plt.axis('off')\n",
    "plt.show()"
   ]
  }
 ],
 "metadata": {
  "kernelspec": {
   "display_name": "Python 3 (ipykernel)",
   "language": "python",
   "name": "python3"
  },
  "language_info": {
   "codemirror_mode": {
    "name": "ipython",
    "version": 3
   },
   "file_extension": ".py",
   "mimetype": "text/x-python",
   "name": "python",
   "nbconvert_exporter": "python",
   "pygments_lexer": "ipython3",
   "version": "3.11.6"
  }
 },
 "nbformat": 4,
 "nbformat_minor": 5
}
