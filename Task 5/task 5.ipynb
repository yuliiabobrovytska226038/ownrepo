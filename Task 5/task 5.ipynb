{
 "cells": [
  {
   "cell_type": "code",
   "execution_count": 2,
   "id": "0e7c6bca-4d09-4653-8e16-a0db0e004e6d",
   "metadata": {},
   "outputs": [],
   "source": [
    "import numpy as np\n",
    "from skimage.measure import label, regionprops\n",
    "import matplotlib.pyplot as plt\n",
    "\n",
    "# Function to perform instance segmentation\n",
    "def instance_segmentation(mask):\n",
    "    # Label connected components in the mask\n",
    "    labeled_mask = label(mask)\n",
    "    \n",
    "    # Get properties of labeled regions\n",
    "    regions = regionprops(labeled_mask)\n",
    "    \n",
    "    # Create an empty array to store individual instances\n",
    "    instance_masks = np.zeros_like(mask)\n",
    "    \n",
    "    # Iterate over regions and extract individual instances\n",
    "    instance_count = 0\n",
    "    for region in regions:\n",
    "        # Extract coordinates of the bounding box\n",
    "        minr, minc, maxr, maxc = region.bbox\n",
    "        \n",
    "        # Extract individual instance and assign a unique label\n",
    "        instance_mask = (labeled_mask[minr:maxr, minc:maxc] == region.label).astype(np.uint8)\n",
    "        instance_masks[minr:maxr, minc:maxc] += instance_mask * (instance_count + 1)\n",
    "        instance_count += 1\n",
    "    \n",
    "    return instance_masks, instance_count\n",
    "\n",
    "# Example usage\n",
    "# Choose an example semantic segmentation mask from the predictions\n",
    "example_mask = preds[0].squeeze() > 0.5  # Assuming threshold of 0.5 for binary mask\n",
    "\n",
    "# Perform instance segmentation\n",
    "instance_masks, instance_count = instance_segmentation(example_mask)\n",
    "\n",
    "# Plot original mask and instance segmentation masks\n",
    "plt.figure(figsize=(10, 5))\n",
    "plt.subplot(1, instance_count + 1, 1)\n",
    "plt.imshow(example_mask, cmap='gray')\n",
    "plt.title('Original Mask')\n",
    "plt.axis('off')\n",
    "\n",
    "for i in range(instance_count):\n",
    "    plt.subplot(1, instance_count + 1, i + 2)\n",
    "    plt.imshow(instance_masks == (i + 1), cmap='jet')  # Each instance has a unique color\n",
    "    plt.title(f'Instance {i + 1}')\n",
    "    plt.axis('off')\n",
    "\n",
    "plt.show()\n"
   ]
  },
  {
   "cell_type": "code",
   "execution_count": null,
   "id": "1eca11f4-5797-4de7-bb59-2197a255fcba",
   "metadata": {},
   "outputs": [],
   "source": []
  }
 ],
 "metadata": {
  "kernelspec": {
   "display_name": "Python 3 (ipykernel)",
   "language": "python",
   "name": "python3"
  },
  "language_info": {
   "codemirror_mode": {
    "name": "ipython",
    "version": 3
   },
   "file_extension": ".py",
   "mimetype": "text/x-python",
   "name": "python",
   "nbconvert_exporter": "python",
   "pygments_lexer": "ipython3",
   "version": "3.11.6"
  }
 },
 "nbformat": 4,
 "nbformat_minor": 5
}
